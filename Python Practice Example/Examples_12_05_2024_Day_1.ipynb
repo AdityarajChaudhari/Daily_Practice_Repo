{
 "cells": [
  {
   "cell_type": "markdown",
   "metadata": {},
   "source": [
    "##  Exercise 1: Calculate the multiplication and sum of two numbers"
   ]
  },
  {
   "cell_type": "code",
   "execution_count": 4,
   "metadata": {},
   "outputs": [],
   "source": [
    "def calculate_mul(num1, num2):\n",
    "    print(\"The Multiplication is :- \", num1 * num2)"
   ]
  },
  {
   "cell_type": "code",
   "execution_count": 10,
   "metadata": {},
   "outputs": [
    {
     "name": "stdout",
     "output_type": "stream",
     "text": [
      "10\n",
      "7\n",
      "The Multiplication is :-  70\n"
     ]
    }
   ],
   "source": [
    "calculate_mul(int(input()), int(input()) )"
   ]
  },
  {
   "cell_type": "code",
   "execution_count": 7,
   "metadata": {},
   "outputs": [],
   "source": [
    "def calculate_sum(num1, num2):\n",
    "    print(\"The Sum is :- \", num1 + num2)"
   ]
  },
  {
   "cell_type": "code",
   "execution_count": 11,
   "metadata": {},
   "outputs": [
    {
     "name": "stdout",
     "output_type": "stream",
     "text": [
      "10\n",
      "7\n",
      "The Sum is :-  17\n"
     ]
    }
   ],
   "source": [
    "calculate_sum(int(input()) , int(input()))"
   ]
  },
  {
   "cell_type": "code",
   "execution_count": null,
   "metadata": {},
   "outputs": [],
   "source": []
  },
  {
   "cell_type": "markdown",
   "metadata": {},
   "source": [
    "## Exercise 2: Print the sum of the current number and the previous number"
   ]
  },
  {
   "cell_type": "code",
   "execution_count": 27,
   "metadata": {},
   "outputs": [
    {
     "name": "stdout",
     "output_type": "stream",
     "text": [
      "Current Number  1 Previous Number 0 Sum :  1\n",
      "Current Number  2 Previous Number 1 Sum :  3\n",
      "Current Number  3 Previous Number 2 Sum :  5\n",
      "Current Number  4 Previous Number 3 Sum :  7\n",
      "Current Number  5 Previous Number 4 Sum :  9\n",
      "Current Number  6 Previous Number 5 Sum :  11\n",
      "Current Number  7 Previous Number 6 Sum :  13\n",
      "Current Number  8 Previous Number 7 Sum :  15\n",
      "Current Number  9 Previous Number 8 Sum :  17\n",
      "Current Number  10 Previous Number 9 Sum :  19\n"
     ]
    }
   ],
   "source": [
    "for i in range(1,11):\n",
    "    print(\"Current Number \", i, \"Previous Number\", i-1, \"Sum : \", i + (i-1))\n"
   ]
  },
  {
   "cell_type": "code",
   "execution_count": null,
   "metadata": {},
   "outputs": [],
   "source": []
  },
  {
   "cell_type": "markdown",
   "metadata": {},
   "source": [
    "## Exercise 3: Print characters from a string that are present at an even index number"
   ]
  },
  {
   "cell_type": "code",
   "execution_count": 66,
   "metadata": {},
   "outputs": [
    {
     "name": "stdout",
     "output_type": "stream",
     "text": [
      "Enter the String :- ADITYARAJ\n",
      "Original String :-  ADITYARAJ\n",
      "D\n",
      "T\n",
      "A\n",
      "A\n"
     ]
    }
   ],
   "source": [
    "string = input(\"Enter the String :- \")\n",
    "print(\"Original String :- \", string)\n",
    "for i in range(1,len(string),2):\n",
    "    print(string[i])"
   ]
  },
  {
   "cell_type": "code",
   "execution_count": null,
   "metadata": {},
   "outputs": [],
   "source": []
  },
  {
   "cell_type": "markdown",
   "metadata": {},
   "source": [
    "## Exercise 4: Remove first n characters from a string"
   ]
  },
  {
   "cell_type": "code",
   "execution_count": 83,
   "metadata": {},
   "outputs": [
    {
     "name": "stdout",
     "output_type": "stream",
     "text": [
      "Enter String :- Adityaraj\n",
      "6\n",
      "raj\n"
     ]
    }
   ],
   "source": [
    "def rem_n_char(string, n):\n",
    "    try:\n",
    "        if n<= len(string):\n",
    "            new_string = \"\".join(string)[n:]\n",
    "            print(new_string)\n",
    "        else:\n",
    "            print(\"N Exceeds length of string\")\n",
    "    except Exception as e:\n",
    "        print(\"Error is :- \", e)\n",
    "rem_n_char(input(\"Enter String :- \"), int(input()))"
   ]
  },
  {
   "cell_type": "code",
   "execution_count": null,
   "metadata": {},
   "outputs": [],
   "source": []
  },
  {
   "cell_type": "markdown",
   "metadata": {},
   "source": [
    "## Exercise 5: Check if the first and last number of a list is the same"
   ]
  },
  {
   "cell_type": "code",
   "execution_count": 87,
   "metadata": {},
   "outputs": [
    {
     "name": "stdout",
     "output_type": "stream",
     "text": [
      "They have different numbers\n"
     ]
    }
   ],
   "source": [
    "numbers_x = [10, 20, 30, 40, 10]\n",
    "numbers_y = [75, 65, 35, 75, 10]\n",
    "\n",
    "def check_lists(list1):\n",
    "    try:\n",
    "        if list1[0] == list1[-1]:\n",
    "            print(\"List ha same number on the their start and end respectively\")\n",
    "        else:\n",
    "            print(\"They have different numbers\")\n",
    "    except Exception as e:\n",
    "        print(\"Error is :- \", e)\n",
    "\n",
    "check_lists(numbers_y)"
   ]
  },
  {
   "cell_type": "code",
   "execution_count": null,
   "metadata": {},
   "outputs": [],
   "source": []
  },
  {
   "cell_type": "markdown",
   "metadata": {},
   "source": [
    "## Exercise 6: Display numbers divisible by 5 from a list"
   ]
  },
  {
   "cell_type": "code",
   "execution_count": 89,
   "metadata": {},
   "outputs": [
    {
     "name": "stdout",
     "output_type": "stream",
     "text": [
      "10\n",
      "20\n",
      "55\n"
     ]
    }
   ],
   "source": [
    "x = [10, 20, 33, 46, 55]\n",
    "for i in x:\n",
    "    if i%5 == 0 :\n",
    "        print(i)\n",
    "    else:\n",
    "        pass"
   ]
  },
  {
   "cell_type": "code",
   "execution_count": null,
   "metadata": {},
   "outputs": [],
   "source": []
  },
  {
   "cell_type": "markdown",
   "metadata": {},
   "source": [
    "## Exercise 7: Return the count of a given substring from a string"
   ]
  },
  {
   "cell_type": "code",
   "execution_count": 105,
   "metadata": {},
   "outputs": [
    {
     "name": "stdout",
     "output_type": "stream",
     "text": [
      "Emma appeared 2 times\n"
     ]
    }
   ],
   "source": [
    "string = \"Emma is good developer. Emma is a writer\"\n",
    "substring = \"Emma\"\n",
    "print(f\"{substring} appeared {string.count(substring)} times\")"
   ]
  },
  {
   "cell_type": "code",
   "execution_count": null,
   "metadata": {},
   "outputs": [],
   "source": []
  },
  {
   "cell_type": "markdown",
   "metadata": {},
   "source": [
    "## Exercise 8: Print the following pattern"
   ]
  },
  {
   "cell_type": "code",
   "execution_count": 141,
   "metadata": {},
   "outputs": [
    {
     "name": "stdout",
     "output_type": "stream",
     "text": [
      "1\n",
      "12\n",
      "123\n",
      "1234\n",
      "12345\n"
     ]
    }
   ],
   "source": [
    "for i in range(1,6):\n",
    "    for j in range(1,i+1):\n",
    "        print(j, end=(\"\"))\n",
    "    print()"
   ]
  },
  {
   "cell_type": "code",
   "execution_count": null,
   "metadata": {},
   "outputs": [],
   "source": []
  },
  {
   "cell_type": "markdown",
   "metadata": {},
   "source": [
    "## Exercise 9: Check Palindrome Number"
   ]
  },
  {
   "cell_type": "code",
   "execution_count": 159,
   "metadata": {},
   "outputs": [
    {
     "name": "stdout",
     "output_type": "stream",
     "text": [
      "original number 121\n",
      "Given number palindrome\n"
     ]
    }
   ],
   "source": [
    "def palindrome(number):\n",
    "    print(\"original number\", number)\n",
    "    original_num = number\n",
    "    \n",
    "    reverse_num = 0\n",
    "    while number > 0:\n",
    "        reminder = number % 10\n",
    "        reverse_num = (reverse_num * 10) + reminder\n",
    "        number = number // 10\n",
    "\n",
    "    if original_num == reverse_num:\n",
    "        print(\"Given number palindrome\")\n",
    "    else:\n",
    "        print(\"Given number is not palindrome\")\n",
    "\n",
    "palindrome(121)"
   ]
  },
  {
   "cell_type": "code",
   "execution_count": null,
   "metadata": {},
   "outputs": [],
   "source": []
  },
  {
   "cell_type": "markdown",
   "metadata": {},
   "source": [
    "## Exercise 10: Create a new list from two list using the following condition"
   ]
  },
  {
   "cell_type": "code",
   "execution_count": 155,
   "metadata": {},
   "outputs": [
    {
     "name": "stdout",
     "output_type": "stream",
     "text": [
      "[25, 35, 40, 60, 90]\n"
     ]
    }
   ],
   "source": [
    "list1 = [10, 20, 25, 30, 35]\n",
    "list2 = [40, 45, 60, 75, 90]\n",
    "\n",
    "x = []\n",
    "for i in list1:\n",
    "    if i%2==1:\n",
    "        x.append(i)\n",
    "    \n",
    "y = []\n",
    "\n",
    "for j in list2:\n",
    "    if j%2==0:\n",
    "        y.append(j)\n",
    "    \n",
    "x.extend(y)\n",
    "print(x)"
   ]
  },
  {
   "cell_type": "code",
   "execution_count": null,
   "metadata": {},
   "outputs": [],
   "source": []
  }
 ],
 "metadata": {
  "kernelspec": {
   "display_name": "Python 3",
   "language": "python",
   "name": "python3"
  },
  "language_info": {
   "codemirror_mode": {
    "name": "ipython",
    "version": 3
   },
   "file_extension": ".py",
   "mimetype": "text/x-python",
   "name": "python",
   "nbconvert_exporter": "python",
   "pygments_lexer": "ipython3",
   "version": "3.8.5"
  }
 },
 "nbformat": 4,
 "nbformat_minor": 4
}
