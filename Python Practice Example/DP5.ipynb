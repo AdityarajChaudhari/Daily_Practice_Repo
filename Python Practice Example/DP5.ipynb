{
 "cells": [
  {
   "cell_type": "markdown",
   "metadata": {},
   "source": [
    "# Exercise 1A: Create a string made of the first, middle and last character"
   ]
  },
  {
   "cell_type": "code",
   "execution_count": 8,
   "metadata": {},
   "outputs": [
    {
     "data": {
      "text/plain": [
       "'Jms'"
      ]
     },
     "execution_count": 8,
     "metadata": {},
     "output_type": "execute_result"
    }
   ],
   "source": [
    "str1 = \"James\"\n",
    "str1[0::2]"
   ]
  },
  {
   "cell_type": "code",
   "execution_count": 53,
   "metadata": {},
   "outputs": [
    {
     "data": {
      "text/plain": [
       "'Ayj'"
      ]
     },
     "execution_count": 53,
     "metadata": {},
     "output_type": "execute_result"
    }
   ],
   "source": [
    "# Solution 2\n",
    "\n",
    "str1 = \"Adityaraj\"\n",
    "l = []\n",
    "counter = 0\n",
    "middle_val = (len(str1)//2) \n",
    "max_len = len(str1) - 1\n",
    "for i in range(len(str1)):\n",
    "    if counter==0 or counter == max_len  or counter == middle_val:\n",
    "        l.append(str1[counter])\n",
    "    counter += 1\n",
    "x = \"\".join(l)\n",
    "print(x)\n",
    "print(type(x))"
   ]
  },
  {
   "cell_type": "code",
   "execution_count": 54,
   "metadata": {},
   "outputs": [
    {
     "data": {
      "text/plain": [
       "'Ayj'"
      ]
     },
     "execution_count": 54,
     "metadata": {},
     "output_type": "execute_result"
    }
   ],
   "source": [
    "# Solution 3\n",
    "\n",
    "str1 = \"Adityaraj\"\n",
    "new_str = \"\"\n",
    "counter = 0\n",
    "middle_val = (len(str1)//2) \n",
    "max_len = len(str1) - 1\n",
    "for i in range(len(str1)):\n",
    "    if counter==0 or counter == max_len  or counter == middle_val:\n",
    "        new_str += str1[i]\n",
    "    counter += 1\n",
    "new_str"
   ]
  },
  {
   "cell_type": "markdown",
   "metadata": {},
   "source": [
    "## Exercise 1B: Create a string made of the middle three characters"
   ]
  },
  {
   "cell_type": "code",
   "execution_count": 59,
   "metadata": {},
   "outputs": [
    {
     "name": "stdout",
     "output_type": "stream",
     "text": [
      "Enter the string :- JaSonAy\n",
      "Son\n"
     ]
    }
   ],
   "source": [
    "input_str = input(\"Enter the string :- \")\n",
    "middle_element = len(input_str)//2\n",
    "x_element = middle_element - 1\n",
    "y_element = middle_element + 1\n",
    "counter = 0\n",
    "new_str = \"\"\n",
    "for i in range(len(input_str)):\n",
    "    if counter == x_element or counter == middle_element or counter == y_element:\n",
    "        new_str += input_str[counter]\n",
    "    counter += 1\n",
    "print(new_str)"
   ]
  },
  {
   "cell_type": "markdown",
   "metadata": {},
   "source": [
    "## Exercise 2: Append new string in the middle of a given string\n"
   ]
  },
  {
   "cell_type": "raw",
   "metadata": {},
   "source": [
    "Given two strings, s1 and s2. Write a program to create a new string s3 by appending s2 in the middle of s1."
   ]
  },
  {
   "cell_type": "code",
   "execution_count": 67,
   "metadata": {},
   "outputs": [
    {
     "data": {
      "text/plain": [
       "'Adityaraj'"
      ]
     },
     "execution_count": 67,
     "metadata": {},
     "output_type": "execute_result"
    }
   ],
   "source": [
    "s1 = \"Adiraj\"\n",
    "s2 = \"tya\"\n",
    "mid = (len(s1))//2\n",
    "s3 =  s1[:mid] + s2 + s1[mid:]\n",
    "s3"
   ]
  },
  {
   "cell_type": "markdown",
   "metadata": {},
   "source": [
    "## Exercise 3: Create a new string made of the first, middle, and last characters of each input string"
   ]
  },
  {
   "cell_type": "raw",
   "metadata": {},
   "source": [
    "Given two strings, s1 and s2, write a program to return a new string made of s1 and s2’s first, middle, and last characters."
   ]
  },
  {
   "cell_type": "code",
   "execution_count": 89,
   "metadata": {},
   "outputs": [
    {
     "name": "stdout",
     "output_type": "stream",
     "text": [
      "AJrpan\n"
     ]
    }
   ],
   "source": [
    "# Solution 1\n",
    "\n",
    "s1 = \"America\"\n",
    "s2 = \"Japan\"\n",
    "x = s1[0] + s1[len(s1)//2] + s1[-1]\n",
    "y = s2[0] + s2[len(s2)//2] + s2[-1]\n",
    "result = \"\".join(a + b for a, b in zip(x, y))\n",
    "print(result)"
   ]
  },
  {
   "cell_type": "code",
   "execution_count": 95,
   "metadata": {},
   "outputs": [
    {
     "data": {
      "text/plain": [
       "'AJrpan'"
      ]
     },
     "execution_count": 95,
     "metadata": {},
     "output_type": "execute_result"
    }
   ],
   "source": [
    "# Solution 2\n",
    "\n",
    "l = []\n",
    "for a,b in zip(x,y):\n",
    "    l.append(a+b)\n",
    "\"\".join(l)"
   ]
  },
  {
   "cell_type": "markdown",
   "metadata": {},
   "source": [
    "## Exercise 4: Arrange string characters such that lowercase letters should come first"
   ]
  },
  {
   "cell_type": "code",
   "execution_count": 96,
   "metadata": {},
   "outputs": [
    {
     "data": {
      "text/plain": [
       "'PyNaTive'"
      ]
     },
     "execution_count": 96,
     "metadata": {},
     "output_type": "execute_result"
    }
   ],
   "source": [
    "str1 = \"PyNaTive\"\n",
    "str1"
   ]
  },
  {
   "cell_type": "code",
   "execution_count": 98,
   "metadata": {},
   "outputs": [
    {
     "data": {
      "text/plain": [
       "'yaivePNT'"
      ]
     },
     "execution_count": 98,
     "metadata": {},
     "output_type": "execute_result"
    }
   ],
   "source": [
    "lowercase_string = \"\"\n",
    "uppercase_string = \"\"\n",
    "for i in range(len(str1)):\n",
    "    if str1[i].islower():\n",
    "        lowercase_string += str1[i]\n",
    "    else:\n",
    "        uppercase_string += str1[i]\n",
    "result_str = lowercase_string + uppercase_string\n",
    "result_str"
   ]
  },
  {
   "cell_type": "code",
   "execution_count": 99,
   "metadata": {},
   "outputs": [
    {
     "name": "stdout",
     "output_type": "stream",
     "text": [
      "No\n",
      "Yes\n",
      "No\n",
      "Yes\n",
      "No\n",
      "Yes\n",
      "Yes\n",
      "Yes\n"
     ]
    }
   ],
   "source": [
    "# This can also be done. See the variation in for loop\n",
    "\n",
    "for i in str1:\n",
    "    if i.islower():\n",
    "        print(\"Yes\")\n",
    "    else:\n",
    "        print(\"No\")"
   ]
  },
  {
   "cell_type": "markdown",
   "metadata": {},
   "source": [
    "## Exercise 5: Count all letters, digits, and special symbols from a given string"
   ]
  },
  {
   "cell_type": "code",
   "execution_count": 102,
   "metadata": {},
   "outputs": [
    {
     "name": "stdout",
     "output_type": "stream",
     "text": [
      "Letters : 8 \n",
      " Number : 3 \n",
      " Symbol : 4\n"
     ]
    }
   ],
   "source": [
    "str1 = \"P@#yn26at^&i5ve\"\n",
    "str1 = str1.lower()\n",
    "count_letter = 0\n",
    "count_digit = 0\n",
    "count_symbols = 0\n",
    "for i in str1:\n",
    "    if i.islower():\n",
    "        count_letter += 1\n",
    "    elif i.isdigit():\n",
    "        count_digit += 1\n",
    "    else:\n",
    "        count_symbols += 1\n",
    "print(f\"Letters : {count_letter} \\n Number : {count_digit} \\n Symbol : {count_symbols}\")"
   ]
  },
  {
   "cell_type": "code",
   "execution_count": 103,
   "metadata": {},
   "outputs": [],
   "source": [
    "# No need to convert letters to lowercase. isalpha() detects the alphabets in the string"
   ]
  },
  {
   "cell_type": "code",
   "execution_count": 105,
   "metadata": {},
   "outputs": [
    {
     "name": "stdout",
     "output_type": "stream",
     "text": [
      " Letters : 8 \n",
      " Number : 3 \n",
      " Symbol : 4\n"
     ]
    }
   ],
   "source": [
    "# Approach 2\n",
    "\n",
    "str1 = \"P@#yn26at^&i5ve\"\n",
    "count_letter = 0\n",
    "count_digit = 0\n",
    "count_symbols = 0\n",
    "for i in str1:\n",
    "    if i.isalpha():\n",
    "        count_letter += 1\n",
    "    elif i.isdigit():\n",
    "        count_digit += 1\n",
    "    else:\n",
    "        count_symbols += 1\n",
    "print(f\" Letters : {count_letter} \\n Number : {count_digit} \\n Symbol : {count_symbols}\")"
   ]
  },
  {
   "cell_type": "markdown",
   "metadata": {},
   "source": [
    "## Exercise 6: Create a mixed String using the following rules\n"
   ]
  },
  {
   "cell_type": "raw",
   "metadata": {},
   "source": [
    "Given two strings, s1 and s2. Write a program to create a new string s3 made of the first char of s1, then the last char of s2, Next, the second char of s1 and second last char of s2, and so on. Any leftover chars go at the end of the result."
   ]
  },
  {
   "cell_type": "code",
   "execution_count": 106,
   "metadata": {},
   "outputs": [
    {
     "name": "stdout",
     "output_type": "stream",
     "text": [
      "Enter the string 1 :- Aditya\n",
      "Enter the string 2 :- Chaudhari\n"
     ]
    },
    {
     "data": {
      "text/plain": [
       "'ACdhiatuydah'"
      ]
     },
     "execution_count": 106,
     "metadata": {},
     "output_type": "execute_result"
    }
   ],
   "source": [
    "s1 = input(\"Enter the string 1 :- \")\n",
    "s2 = input(\"Enter the string 2 :- \")\n",
    "l = []\n",
    "for a,b in zip(s1, s2):\n",
    "    l.append(a+b)\n",
    "s3 = \"\".join(l)\n",
    "s3"
   ]
  },
  {
   "cell_type": "code",
   "execution_count": 108,
   "metadata": {},
   "outputs": [
    {
     "name": "stdout",
     "output_type": "stream",
     "text": [
      "Enter the string 1 :- Aditya\n",
      "Enter the string 2 :- Chaudhari\n"
     ]
    },
    {
     "data": {
      "text/plain": [
       "'ACdhiatuydah'"
      ]
     },
     "execution_count": 108,
     "metadata": {},
     "output_type": "execute_result"
    }
   ],
   "source": [
    "s1 = input(\"Enter the string 1 :- \")\n",
    "s2 = input(\"Enter the string 2 :- \")\n",
    "s3 = \"\".join(a+b for a,b in zip(s1,s2))\n",
    "s3"
   ]
  },
  {
   "cell_type": "markdown",
   "metadata": {},
   "source": [
    "## Exercise 7: String characters balance Test"
   ]
  },
  {
   "cell_type": "code",
   "execution_count": 123,
   "metadata": {},
   "outputs": [
    {
     "name": "stdout",
     "output_type": "stream",
     "text": [
      "True\n"
     ]
    }
   ],
   "source": [
    "s1 = \"Yna\"\n",
    "s2 = \"PYnative\"\n",
    "flag = True\n",
    "for i in s1:\n",
    "    if i in s2:\n",
    "        continue\n",
    "    else:\n",
    "        flag = False\n",
    "print(flag)"
   ]
  },
  {
   "cell_type": "markdown",
   "metadata": {},
   "source": [
    "## Exercise 8: Find all occurrences of a substring in a given string by ignoring the case"
   ]
  },
  {
   "cell_type": "code",
   "execution_count": 130,
   "metadata": {},
   "outputs": [
    {
     "name": "stdout",
     "output_type": "stream",
     "text": [
      "2\n"
     ]
    }
   ],
   "source": [
    "# Approach 1\n",
    "\n",
    "str1 = \"Welcome to USA. usa awesome, isn't it?\"\n",
    "counter = 0\n",
    "for i in str1.split():\n",
    "    if \"usa\" in i.lower():\n",
    "        counter += 1\n",
    "print(counter)\n"
   ]
  },
  {
   "cell_type": "code",
   "execution_count": 135,
   "metadata": {},
   "outputs": [
    {
     "data": {
      "text/plain": [
       "2"
      ]
     },
     "execution_count": 135,
     "metadata": {},
     "output_type": "execute_result"
    }
   ],
   "source": [
    "# Approach 2\n",
    "\n",
    "str1 = \"Welcome to USA. usa awesome, isn't it?\"\n",
    "sub_str = \"usa\"\n",
    "str1.lower().count(sub_str)\n",
    "\n",
    "#or\n",
    "# lower_str = str1.lower()\n",
    "# lower_str.count(sub_str)\n",
    "# -> 2"
   ]
  },
  {
   "cell_type": "markdown",
   "metadata": {},
   "source": [
    "## Exercise 9: Calculate the sum and average of the digits present in a string"
   ]
  },
  {
   "cell_type": "code",
   "execution_count": 139,
   "metadata": {},
   "outputs": [
    {
     "name": "stdout",
     "output_type": "stream",
     "text": [
      "Addition is :-  38\n",
      "Average is :-  6.333333333333333\n"
     ]
    }
   ],
   "source": [
    "str1 = \"PYnative29@#8496\"\n",
    "add = 0\n",
    "counter = 0\n",
    "for i in str1:\n",
    "    if i.isdigit():\n",
    "        add += int(i)\n",
    "        counter += 1\n",
    "print(\"Addition is :- \", add)\n",
    "print(\"Average is :- \", float(add/counter))"
   ]
  },
  {
   "cell_type": "markdown",
   "metadata": {},
   "source": [
    "## Exercise 10: Write a program to count occurrences of all characters within a string"
   ]
  },
  {
   "cell_type": "code",
   "execution_count": 145,
   "metadata": {},
   "outputs": [
    {
     "data": {
      "text/plain": [
       "{'A', 'e', 'l', 'p'}"
      ]
     },
     "execution_count": 145,
     "metadata": {},
     "output_type": "execute_result"
    }
   ],
   "source": [
    "str1 = \"Apple\"\n",
    "set(str1)"
   ]
  },
  {
   "cell_type": "code",
   "execution_count": 157,
   "metadata": {},
   "outputs": [
    {
     "data": {
      "text/plain": [
       "{'A': 1, 'p': 2, 'l': 1, 'e': 1}"
      ]
     },
     "execution_count": 157,
     "metadata": {},
     "output_type": "execute_result"
    }
   ],
   "source": [
    "d = {}\n",
    "for i in str1:\n",
    "    x = str1.count(i)\n",
    "    d[i] = x\n",
    "d"
   ]
  },
  {
   "cell_type": "code",
   "execution_count": 153,
   "metadata": {},
   "outputs": [
    {
     "data": {
      "text/plain": [
       "[1, 2, 2, 1, 1]"
      ]
     },
     "execution_count": 153,
     "metadata": {},
     "output_type": "execute_result"
    }
   ],
   "source": [
    "l"
   ]
  },
  {
   "cell_type": "code",
   "execution_count": null,
   "metadata": {},
   "outputs": [],
   "source": []
  }
 ],
 "metadata": {
  "kernelspec": {
   "display_name": "Python 3",
   "language": "python",
   "name": "python3"
  },
  "language_info": {
   "codemirror_mode": {
    "name": "ipython",
    "version": 3
   },
   "file_extension": ".py",
   "mimetype": "text/x-python",
   "name": "python",
   "nbconvert_exporter": "python",
   "pygments_lexer": "ipython3",
   "version": "3.8.5"
  }
 },
 "nbformat": 4,
 "nbformat_minor": 4
}
