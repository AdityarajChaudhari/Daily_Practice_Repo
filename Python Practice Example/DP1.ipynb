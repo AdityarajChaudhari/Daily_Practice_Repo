{
 "cells": [
  {
   "cell_type": "markdown",
   "metadata": {},
   "source": [
    "## Exercise 1: Calculate the multiplication and sum of two numbers"
   ]
  },
  {
   "cell_type": "code",
   "execution_count": 2,
   "metadata": {},
   "outputs": [
    {
     "name": "stdout",
     "output_type": "stream",
     "text": [
      "Enter the number 1 :- 40\n",
      "Enter the number 2 :- 20\n",
      "The Multiplication of 40.0 and 20.0 is :-  800.0\n",
      "The Addition of 40.0 and 20.0 is :-  60.0\n"
     ]
    }
   ],
   "source": [
    "def multiplication(num1, num2):\n",
    "    return num1 * num2\n",
    "\n",
    "def addition(num1, num2):\n",
    "    return num1 + num2\n",
    "\n",
    "num1 = float(input(\"Enter the number 1 :- \"))\n",
    "num2 = float(input(\"Enter the number 2 :- \"))\n",
    "\n",
    "mul = multiplication(num1, num2)\n",
    "add = addition(num1, num2)\n",
    "\n",
    "print(f\"The Multiplication of {num1} and {num2} is :- \", mul)\n",
    "print(f\"The Addition of {num1} and {num2} is :- \", add)"
   ]
  },
  {
   "cell_type": "markdown",
   "metadata": {},
   "source": [
    "## Exercise 2: Print the Sum of a Current Number and a Previous number"
   ]
  },
  {
   "cell_type": "code",
   "execution_count": 25,
   "metadata": {},
   "outputs": [
    {
     "name": "stdout",
     "output_type": "stream",
     "text": [
      "Current Number : 0 Previous Number : 0 Sum : 0\n",
      "Current Number : 1 Previous Number : 0 Sum : 1\n",
      "Current Number : 2 Previous Number : 1 Sum : 3\n",
      "Current Number : 3 Previous Number : 2 Sum : 5\n",
      "Current Number : 4 Previous Number : 3 Sum : 7\n",
      "Current Number : 5 Previous Number : 4 Sum : 9\n",
      "Current Number : 6 Previous Number : 5 Sum : 11\n",
      "Current Number : 7 Previous Number : 6 Sum : 13\n",
      "Current Number : 8 Previous Number : 7 Sum : 15\n",
      "Current Number : 9 Previous Number : 8 Sum : 17\n"
     ]
    }
   ],
   "source": [
    "def sum_of_curr_and_prev(n):\n",
    "    for i in range(n):\n",
    "        if i == 0:\n",
    "            j = i\n",
    "        else:\n",
    "            j = i - 1\n",
    "        val = i + j\n",
    "        print(f\"Current Number : {i} Previous Number : {j} Sum : {val}\")\n",
    "\n",
    "sum_of_curr_and_prev(10)"
   ]
  },
  {
   "cell_type": "markdown",
   "metadata": {},
   "source": [
    "## Exercise 3: Print characters present at an even index number"
   ]
  },
  {
   "cell_type": "code",
   "execution_count": 40,
   "metadata": {},
   "outputs": [
    {
     "name": "stdout",
     "output_type": "stream",
     "text": [
      "Enter the Value :- Adityaraj\n",
      "dtaa \n",
      "\n"
     ]
    }
   ],
   "source": [
    "def char_at_even_index(val):\n",
    "    return val[1::2]\n",
    "\n",
    "val = input(\"Enter the Value :- \")\n",
    "res = char_at_even_index(val)\n",
    "print(res)"
   ]
  },
  {
   "cell_type": "code",
   "execution_count": 51,
   "metadata": {},
   "outputs": [
    {
     "name": "stdout",
     "output_type": "stream",
     "text": [
      "d\n",
      "t\n",
      "a\n",
      "a\n"
     ]
    }
   ],
   "source": [
    "val = \"adityaraj\"\n",
    "for i in range(len(val)):\n",
    "    if i % 2:\n",
    "        print(val[i])"
   ]
  },
  {
   "cell_type": "markdown",
   "metadata": {},
   "source": [
    "## Exercise 4: Remove first n characters from a string"
   ]
  },
  {
   "cell_type": "code",
   "execution_count": 56,
   "metadata": {},
   "outputs": [
    {
     "name": "stdout",
     "output_type": "stream",
     "text": [
      "Enter the Value :- Adityaraj\n",
      "Enter the Number of first n characters to remove :- 3\n"
     ]
    },
    {
     "data": {
      "text/plain": [
       "'tyaraj'"
      ]
     },
     "execution_count": 56,
     "metadata": {},
     "output_type": "execute_result"
    }
   ],
   "source": [
    "val = \"adityaraj\"\n",
    "def remove_1st_n_chars(val, n):\n",
    "    return val[n:]\n",
    "\n",
    "val = input(\"Enter the Value :- \")\n",
    "n = int(input(\"Enter the Number of first n characters to remove :- \"))\n",
    "remove_1st_n_chars(val, n)"
   ]
  },
  {
   "cell_type": "markdown",
   "metadata": {},
   "source": [
    "## Exercise 5: Check if the first and last numbers of a list are the same"
   ]
  },
  {
   "cell_type": "code",
   "execution_count": 62,
   "metadata": {},
   "outputs": [
    {
     "name": "stdout",
     "output_type": "stream",
     "text": [
      "Comparison to check if first and last numbers of a list l1 are the same:-  False\n",
      "Comparison to check if first and last numbers of a list l2 are the same:-  True\n"
     ]
    }
   ],
   "source": [
    "l1 = [1,2,3,4,5]\n",
    "l2 = [2,4,6,7,2]\n",
    "\n",
    "print(\"Comparison to check if first and last numbers of a list l1 are the same:- \", l1[0] == l1[-1])\n",
    "print(\"Comparison to check if first and last numbers of a list l2 are the same:- \", l2[0] == l2[-1])\n"
   ]
  },
  {
   "cell_type": "markdown",
   "metadata": {},
   "source": [
    "## Exercise 6: Display numbers divisible by 5"
   ]
  },
  {
   "cell_type": "code",
   "execution_count": 74,
   "metadata": {},
   "outputs": [
    {
     "name": "stdout",
     "output_type": "stream",
     "text": [
      "10\n",
      "20\n",
      "55\n"
     ]
    }
   ],
   "source": [
    "l = [10, 20, 33, 46, 55]\n",
    "for i in l:\n",
    "    if i%5 == 0:\n",
    "        print(i)"
   ]
  },
  {
   "cell_type": "code",
   "execution_count": 78,
   "metadata": {},
   "outputs": [
    {
     "name": "stdout",
     "output_type": "stream",
     "text": [
      "Len of list :- 4\n",
      "enter :- 1\n",
      "enter :- 2\n",
      "enter :- 3\n",
      "enter :- 4\n",
      "['1', '2', '3', '4']\n"
     ]
    }
   ],
   "source": [
    "l = []\n",
    "n = int(input(\"Len of list :- \"))\n",
    "for i in range(n):\n",
    "    val = input(\"enter :- \")\n",
    "    l.append(val)\n",
    "print(l)"
   ]
  },
  {
   "cell_type": "markdown",
   "metadata": {},
   "source": [
    "## Exercise 7: Find the number of occurrences of a substring in a string"
   ]
  },
  {
   "cell_type": "code",
   "execution_count": 92,
   "metadata": {},
   "outputs": [
    {
     "data": {
      "text/plain": [
       "2"
      ]
     },
     "execution_count": 92,
     "metadata": {},
     "output_type": "execute_result"
    }
   ],
   "source": [
    "string = \"Emma is good developer. Emma is a writer\"\n",
    "string.count(\"Emma\")"
   ]
  },
  {
   "cell_type": "markdown",
   "metadata": {},
   "source": [
    "## Exercise 8: Print the following pattern"
   ]
  },
  {
   "cell_type": "code",
   "execution_count": 123,
   "metadata": {},
   "outputs": [
    {
     "name": "stdout",
     "output_type": "stream",
     "text": [
      "1\n",
      "22\n",
      "333\n",
      "4444\n",
      "55555\n"
     ]
    }
   ],
   "source": [
    "for i in range(1,6):\n",
    "    for j in range(i):\n",
    "        print(i, end=\"\")\n",
    "    print(\"\")"
   ]
  },
  {
   "cell_type": "markdown",
   "metadata": {},
   "source": [
    "## Exercise 9: Merge two lists using the following condition\n",
    "Given two lists of numbers, write a Python code to create a new list such that the latest list should contain odd numbers from the first list and even numbers from the second list."
   ]
  },
  {
   "cell_type": "code",
   "execution_count": 137,
   "metadata": {},
   "outputs": [
    {
     "name": "stdout",
     "output_type": "stream",
     "text": [
      "[25, 35]\n",
      "[40, 60, 90]\n",
      "Extended list :-  [25, 35, 40, 60, 90]\n"
     ]
    }
   ],
   "source": [
    "list1 = [10, 20, 25, 30, 35]\n",
    "list2 = [40, 45, 60, 75, 90]\n",
    "\n",
    "l1 = []\n",
    "l2 = []\n",
    "for i in list1:\n",
    "    if i % 2 != 0:\n",
    "        l1.append(i)\n",
    "        \n",
    "for j in list2:\n",
    "    if j % 2 == 0:\n",
    "        l2.append(j)\n",
    "\n",
    "print(l1)\n",
    "print(l2)\n",
    "l1.extend(l2)\n",
    "print(\"Extended list :- \", l1)"
   ]
  },
  {
   "cell_type": "code",
   "execution_count": 138,
   "metadata": {},
   "outputs": [
    {
     "data": {
      "text/plain": [
       "[25, 35]"
      ]
     },
     "execution_count": 138,
     "metadata": {},
     "output_type": "execute_result"
    }
   ],
   "source": [
    "# List Comprehension\n",
    "[i for i in list1 if i%2!=0]"
   ]
  },
  {
   "cell_type": "markdown",
   "metadata": {},
   "source": [
    "## Exercise 10: Get each digit from a number in the reverse order."
   ]
  },
  {
   "cell_type": "code",
   "execution_count": 152,
   "metadata": {},
   "outputs": [
    {
     "name": "stdout",
     "output_type": "stream",
     "text": [
      "Given number 7536\n",
      "6 3 5 7 "
     ]
    }
   ],
   "source": [
    "number = 7536\n",
    "print(\"Given number\", number)\n",
    "while number > 0:\n",
    "    # get the last digit\n",
    "    digit = number % 10\n",
    "    # remove the last digit and repeat the loop\n",
    "    number = number // 10\n",
    "    print(digit, end=\" \")"
   ]
  },
  {
   "cell_type": "code",
   "execution_count": null,
   "metadata": {},
   "outputs": [],
   "source": []
  }
 ],
 "metadata": {
  "kernelspec": {
   "display_name": "Python 3",
   "language": "python",
   "name": "python3"
  },
  "language_info": {
   "codemirror_mode": {
    "name": "ipython",
    "version": 3
   },
   "file_extension": ".py",
   "mimetype": "text/x-python",
   "name": "python",
   "nbconvert_exporter": "python",
   "pygments_lexer": "ipython3",
   "version": "3.8.5"
  }
 },
 "nbformat": 4,
 "nbformat_minor": 4
}
